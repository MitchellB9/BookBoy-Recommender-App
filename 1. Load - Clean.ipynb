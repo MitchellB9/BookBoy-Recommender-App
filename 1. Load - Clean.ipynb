{
 "cells": [
  {
   "cell_type": "code",
   "execution_count": 1,
   "id": "c8235619",
   "metadata": {},
   "outputs": [],
   "source": [
    "# Data Pipeline Notebook 1\n",
    "\n",
    "# Download dataset from kaggle\n",
    "# Load into DB Browser for SQLite\n",
    "# Access Data using SQLAlchemy\n",
    "# Clean Data\n",
    "# Tokenize Data\n",
    "\n",
    "# Data Pipeline Notebook 2\n",
    "\n",
    "# Lemmatize\n",
    "# PCA to achieve > 70% EVR\n",
    "# Cluster Model\n",
    "# Output top 10 closest books"
   ]
  },
  {
   "cell_type": "code",
   "execution_count": 17,
   "id": "8c2dafb2",
   "metadata": {},
   "outputs": [
    {
     "name": "stderr",
     "output_type": "stream",
     "text": [
      "[nltk_data] Downloading package punkt to\n",
      "[nltk_data]     C:\\Users\\mitch\\AppData\\Roaming\\nltk_data...\n",
      "[nltk_data]   Package punkt is already up-to-date!\n"
     ]
    }
   ],
   "source": [
    "import pandas as pd\n",
    "from sqlalchemy import create_engine\n",
    "import numpy as np\n",
    "import re\n",
    "import pickle\n",
    "import spacy\n",
    "from spacy import displacy\n",
    "import nltk\n",
    "from nltk.util import ngrams\n",
    "nltk.download('punkt')\n",
    "from nltk.tokenize import word_tokenize\n",
    "from nltk.tokenize import RegexpTokenizer\n",
    "from nltk.tokenize import MWETokenizer\n",
    "from nltk.tokenize import sent_tokenize\n",
    "from sklearn.feature_extraction.text import CountVectorizer\n",
    "from sklearn.feature_extraction.text import TfidfVectorizer\n",
    "from sklearn.metrics.pairwise import cosine_similarity\n",
    "from sklearn.metrics import pairwise_distances\n",
    "from sklearn.decomposition import NMF\n",
    "from sklearn.cluster import KMeans\n",
    "from sklearn.preprocessing import StandardScaler\n",
    "from sklearn.decomposition import PCA"
   ]
  },
  {
   "cell_type": "code",
   "execution_count": 19,
   "id": "0013b063",
   "metadata": {},
   "outputs": [],
   "source": [
    "# https://www.kaggle.com/datasets/mohamedbakhet/amazon-books-reviews?select=Books_rating.csv\n",
    "engine = create_engine('sqlite:///book_review_DB.db')"
   ]
  },
  {
   "cell_type": "code",
   "execution_count": 21,
   "id": "5c8ce2b3",
   "metadata": {},
   "outputs": [],
   "source": [
    "df = pd.read_sql('SELECT * FROM books;', engine)"
   ]
  },
  {
   "cell_type": "code",
   "execution_count": 22,
   "id": "2086bb5c",
   "metadata": {},
   "outputs": [
    {
     "data": {
      "text/plain": [
       "(212405, 10)"
      ]
     },
     "execution_count": 22,
     "metadata": {},
     "output_type": "execute_result"
    }
   ],
   "source": [
    "df.shape"
   ]
  },
  {
   "cell_type": "code",
   "execution_count": 23,
   "id": "1625f0e4",
   "metadata": {},
   "outputs": [],
   "source": [
    "df.drop([0], inplace = True)"
   ]
  },
  {
   "cell_type": "code",
   "execution_count": 25,
   "id": "62fca168",
   "metadata": {},
   "outputs": [
    {
     "data": {
      "text/html": [
       "<div>\n",
       "<style scoped>\n",
       "    .dataframe tbody tr th:only-of-type {\n",
       "        vertical-align: middle;\n",
       "    }\n",
       "\n",
       "    .dataframe tbody tr th {\n",
       "        vertical-align: top;\n",
       "    }\n",
       "\n",
       "    .dataframe thead th {\n",
       "        text-align: right;\n",
       "    }\n",
       "</style>\n",
       "<table border=\"1\" class=\"dataframe\">\n",
       "  <thead>\n",
       "    <tr style=\"text-align: right;\">\n",
       "      <th></th>\n",
       "      <th>Title</th>\n",
       "      <th>Description</th>\n",
       "      <th>Authors</th>\n",
       "      <th>ImageURL</th>\n",
       "      <th>PreviewURL</th>\n",
       "      <th>Publisher</th>\n",
       "      <th>PublishDate</th>\n",
       "      <th>InfoURL</th>\n",
       "      <th>Categories</th>\n",
       "      <th>Rating</th>\n",
       "    </tr>\n",
       "  </thead>\n",
       "  <tbody>\n",
       "    <tr>\n",
       "      <th>1</th>\n",
       "      <td>Its Only Art If Its Well Hung!</td>\n",
       "      <td>None</td>\n",
       "      <td>['Julie Strain']</td>\n",
       "      <td>http://books.google.com/books/content?id=DykPA...</td>\n",
       "      <td>http://books.google.nl/books?id=DykPAAAACAAJ&amp;d...</td>\n",
       "      <td>None</td>\n",
       "      <td>1996</td>\n",
       "      <td>http://books.google.nl/books?id=DykPAAAACAAJ&amp;d...</td>\n",
       "      <td>['Comics &amp; Graphic Novels']</td>\n",
       "      <td>None</td>\n",
       "    </tr>\n",
       "  </tbody>\n",
       "</table>\n",
       "</div>"
      ],
      "text/plain": [
       "                            Title Description           Authors  \\\n",
       "1  Its Only Art If Its Well Hung!        None  ['Julie Strain']   \n",
       "\n",
       "                                            ImageURL  \\\n",
       "1  http://books.google.com/books/content?id=DykPA...   \n",
       "\n",
       "                                          PreviewURL Publisher PublishDate  \\\n",
       "1  http://books.google.nl/books?id=DykPAAAACAAJ&d...      None        1996   \n",
       "\n",
       "                                             InfoURL  \\\n",
       "1  http://books.google.nl/books?id=DykPAAAACAAJ&d...   \n",
       "\n",
       "                    Categories Rating  \n",
       "1  ['Comics & Graphic Novels']   None  "
      ]
     },
     "execution_count": 25,
     "metadata": {},
     "output_type": "execute_result"
    }
   ],
   "source": [
    "df.head(1)"
   ]
  },
  {
   "cell_type": "code",
   "execution_count": 26,
   "id": "c59e793d",
   "metadata": {},
   "outputs": [],
   "source": [
    "drop_cols = ['Authors', 'ImageURL', 'Authors', 'PreviewURL', 'Publisher', 'PublishDate', 'InfoURL', 'Categories', 'Rating']\n",
    "\n",
    "df_words = df.drop(drop_cols, axis = 1)\n",
    "\n",
    "df_words.reset_index(drop = True, inplace = True)"
   ]
  },
  {
   "cell_type": "code",
   "execution_count": 28,
   "id": "b5ee7f42",
   "metadata": {},
   "outputs": [],
   "source": [
    "df_words.dropna(inplace = True)"
   ]
  },
  {
   "cell_type": "code",
   "execution_count": 29,
   "id": "2069c14a",
   "metadata": {},
   "outputs": [
    {
     "data": {
      "text/plain": [
       "(143962, 2)"
      ]
     },
     "execution_count": 29,
     "metadata": {},
     "output_type": "execute_result"
    }
   ],
   "source": [
    "df_words.shape"
   ]
  },
  {
   "cell_type": "code",
   "execution_count": 30,
   "id": "a9666e5a",
   "metadata": {},
   "outputs": [],
   "source": [
    "df_words = df_words.head(100000)"
   ]
  },
  {
   "cell_type": "code",
   "execution_count": 31,
   "id": "69b0262e",
   "metadata": {},
   "outputs": [
    {
     "data": {
      "text/plain": [
       "(100000, 2)"
      ]
     },
     "execution_count": 31,
     "metadata": {},
     "output_type": "execute_result"
    }
   ],
   "source": [
    "df_words.shape"
   ]
  },
  {
   "cell_type": "code",
   "execution_count": 32,
   "id": "eb6c651e",
   "metadata": {},
   "outputs": [
    {
     "data": {
      "text/html": [
       "<div>\n",
       "<style scoped>\n",
       "    .dataframe tbody tr th:only-of-type {\n",
       "        vertical-align: middle;\n",
       "    }\n",
       "\n",
       "    .dataframe tbody tr th {\n",
       "        vertical-align: top;\n",
       "    }\n",
       "\n",
       "    .dataframe thead th {\n",
       "        text-align: right;\n",
       "    }\n",
       "</style>\n",
       "<table border=\"1\" class=\"dataframe\">\n",
       "  <thead>\n",
       "    <tr style=\"text-align: right;\">\n",
       "      <th></th>\n",
       "      <th>Title</th>\n",
       "      <th>Description</th>\n",
       "    </tr>\n",
       "  </thead>\n",
       "  <tbody>\n",
       "    <tr>\n",
       "      <th>1</th>\n",
       "      <td>Dr. Seuss: American Icon</td>\n",
       "      <td>Philip Nel takes a fascinating look into the k...</td>\n",
       "    </tr>\n",
       "    <tr>\n",
       "      <th>2</th>\n",
       "      <td>Wonderful Worship in Smaller Churches</td>\n",
       "      <td>This resource includes twelve principles in un...</td>\n",
       "    </tr>\n",
       "    <tr>\n",
       "      <th>3</th>\n",
       "      <td>Whispers of the Wicked Saints</td>\n",
       "      <td>Julia Thomas finds her life spinning out of co...</td>\n",
       "    </tr>\n",
       "    <tr>\n",
       "      <th>5</th>\n",
       "      <td>The Church of Christ: A Biblical Ecclesiology ...</td>\n",
       "      <td>In The Church of Christ: A Biblical Ecclesiolo...</td>\n",
       "    </tr>\n",
       "    <tr>\n",
       "      <th>8</th>\n",
       "      <td>Saint Hyacinth of Poland</td>\n",
       "      <td>The story for children 10 and up of St. Hyacin...</td>\n",
       "    </tr>\n",
       "  </tbody>\n",
       "</table>\n",
       "</div>"
      ],
      "text/plain": [
       "                                               Title  \\\n",
       "1                           Dr. Seuss: American Icon   \n",
       "2              Wonderful Worship in Smaller Churches   \n",
       "3                      Whispers of the Wicked Saints   \n",
       "5  The Church of Christ: A Biblical Ecclesiology ...   \n",
       "8                           Saint Hyacinth of Poland   \n",
       "\n",
       "                                         Description  \n",
       "1  Philip Nel takes a fascinating look into the k...  \n",
       "2  This resource includes twelve principles in un...  \n",
       "3  Julia Thomas finds her life spinning out of co...  \n",
       "5  In The Church of Christ: A Biblical Ecclesiolo...  \n",
       "8  The story for children 10 and up of St. Hyacin...  "
      ]
     },
     "execution_count": 32,
     "metadata": {},
     "output_type": "execute_result"
    }
   ],
   "source": [
    "df_words.head()"
   ]
  },
  {
   "cell_type": "code",
   "execution_count": 33,
   "id": "6e7edb51",
   "metadata": {},
   "outputs": [],
   "source": [
    "unwanted_text = \"[.,!?(){}\\\"•—\\-\\\\:;@#$%^&*<>~=+/`_|1234567890]\"\n",
    "\n",
    "df_words['cleaned_1'] = df_words['Description'].map(lambda x: re.sub(unwanted_text, ' ', x))"
   ]
  },
  {
   "cell_type": "code",
   "execution_count": 34,
   "id": "3f8c3659",
   "metadata": {},
   "outputs": [],
   "source": [
    "df_words['cleaned_2'] = df_words['cleaned_1'].map(lambda x: x.lower())"
   ]
  },
  {
   "cell_type": "code",
   "execution_count": 36,
   "id": "8a0203c4",
   "metadata": {},
   "outputs": [],
   "source": [
    "df_words['Description'] = df_words['cleaned_2']"
   ]
  },
  {
   "cell_type": "code",
   "execution_count": 38,
   "id": "19b7209a",
   "metadata": {},
   "outputs": [],
   "source": [
    "drop_cols = ['cleaned_1', 'cleaned_2']\n",
    "\n",
    "df_words = df_words.drop(drop_cols, axis = 1)"
   ]
  },
  {
   "cell_type": "code",
   "execution_count": 41,
   "id": "1bff52e8",
   "metadata": {},
   "outputs": [
    {
     "data": {
      "text/html": [
       "<div>\n",
       "<style scoped>\n",
       "    .dataframe tbody tr th:only-of-type {\n",
       "        vertical-align: middle;\n",
       "    }\n",
       "\n",
       "    .dataframe tbody tr th {\n",
       "        vertical-align: top;\n",
       "    }\n",
       "\n",
       "    .dataframe thead th {\n",
       "        text-align: right;\n",
       "    }\n",
       "</style>\n",
       "<table border=\"1\" class=\"dataframe\">\n",
       "  <thead>\n",
       "    <tr style=\"text-align: right;\">\n",
       "      <th></th>\n",
       "      <th>Title</th>\n",
       "      <th>Description</th>\n",
       "    </tr>\n",
       "  </thead>\n",
       "  <tbody>\n",
       "    <tr>\n",
       "      <th>1</th>\n",
       "      <td>Dr. Seuss: American Icon</td>\n",
       "      <td>philip nel takes a fascinating look into the k...</td>\n",
       "    </tr>\n",
       "  </tbody>\n",
       "</table>\n",
       "</div>"
      ],
      "text/plain": [
       "                      Title                                        Description\n",
       "1  Dr. Seuss: American Icon  philip nel takes a fascinating look into the k..."
      ]
     },
     "execution_count": 41,
     "metadata": {},
     "output_type": "execute_result"
    }
   ],
   "source": [
    "df_words.head(1)"
   ]
  },
  {
   "cell_type": "code",
   "execution_count": 42,
   "id": "2df48d35",
   "metadata": {},
   "outputs": [
    {
     "data": {
      "text/plain": [
       "(100000, 2)"
      ]
     },
     "execution_count": 42,
     "metadata": {},
     "output_type": "execute_result"
    }
   ],
   "source": [
    "df_words.shape"
   ]
  },
  {
   "cell_type": "code",
   "execution_count": 45,
   "id": "7d9e872c",
   "metadata": {},
   "outputs": [
    {
     "data": {
      "text/plain": [
       "100000"
      ]
     },
     "execution_count": 45,
     "metadata": {},
     "output_type": "execute_result"
    }
   ],
   "source": [
    "len(df_words.Title.unique())"
   ]
  },
  {
   "cell_type": "code",
   "execution_count": 46,
   "id": "99b61962",
   "metadata": {},
   "outputs": [],
   "source": [
    "with open('df_100k_desc', 'wb') as f:\n",
    "    pickle.dump(df_words,f)"
   ]
  }
 ],
 "metadata": {
  "kernelspec": {
   "display_name": "Python 3 (ipykernel)",
   "language": "python",
   "name": "python3"
  },
  "language_info": {
   "codemirror_mode": {
    "name": "ipython",
    "version": 3
   },
   "file_extension": ".py",
   "mimetype": "text/x-python",
   "name": "python",
   "nbconvert_exporter": "python",
   "pygments_lexer": "ipython3",
   "version": "3.9.7"
  }
 },
 "nbformat": 4,
 "nbformat_minor": 5
}

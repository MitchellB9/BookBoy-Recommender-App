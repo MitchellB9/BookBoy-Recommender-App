{
 "cells": [
  {
   "cell_type": "code",
   "execution_count": 1,
   "id": "6debec29-b92f-49e8-bf53-92a8595efa21",
   "metadata": {},
   "outputs": [
    {
     "name": "stderr",
     "output_type": "stream",
     "text": [
      "[nltk_data] Downloading package punkt to /home/jupyter/nltk_data...\n",
      "[nltk_data]   Package punkt is already up-to-date!\n"
     ]
    }
   ],
   "source": [
    "import pandas as pd\n",
    "from sqlalchemy import create_engine\n",
    "import numpy as np\n",
    "import re\n",
    "import pickle\n",
    "import spacy\n",
    "from spacy import displacy\n",
    "import nltk\n",
    "from nltk.util import ngrams\n",
    "nltk.download('punkt')\n",
    "from nltk.tokenize import word_tokenize\n",
    "from nltk.tokenize import RegexpTokenizer\n",
    "from nltk.tokenize import MWETokenizer\n",
    "from nltk.tokenize import sent_tokenize\n",
    "from sklearn.feature_extraction.text import CountVectorizer\n",
    "from sklearn.feature_extraction.text import TfidfVectorizer\n",
    "from sklearn.metrics.pairwise import cosine_similarity\n",
    "from sklearn.metrics import pairwise_distances\n",
    "from sklearn.decomposition import NMF\n",
    "from sklearn.cluster import KMeans\n",
    "from sklearn.preprocessing import StandardScaler\n",
    "from sklearn.decomposition import PCA\n",
    "import en_core_web_sm"
   ]
  },
  {
   "cell_type": "code",
   "execution_count": 2,
   "id": "6872070a-2a6c-4042-b27f-ccd4b5761160",
   "metadata": {},
   "outputs": [],
   "source": [
    "with open('df_100k_desc', 'rb') as f:\n",
    "    df_words = pickle.load(f)"
   ]
  },
  {
   "cell_type": "code",
   "execution_count": 3,
   "id": "247bd2d0-194d-4931-847f-84cca3c1d63d",
   "metadata": {},
   "outputs": [
    {
     "data": {
      "text/html": [
       "<div>\n",
       "<style scoped>\n",
       "    .dataframe tbody tr th:only-of-type {\n",
       "        vertical-align: middle;\n",
       "    }\n",
       "\n",
       "    .dataframe tbody tr th {\n",
       "        vertical-align: top;\n",
       "    }\n",
       "\n",
       "    .dataframe thead th {\n",
       "        text-align: right;\n",
       "    }\n",
       "</style>\n",
       "<table border=\"1\" class=\"dataframe\">\n",
       "  <thead>\n",
       "    <tr style=\"text-align: right;\">\n",
       "      <th></th>\n",
       "      <th>Title</th>\n",
       "      <th>Description</th>\n",
       "    </tr>\n",
       "  </thead>\n",
       "  <tbody>\n",
       "    <tr>\n",
       "      <th>1</th>\n",
       "      <td>Dr. Seuss: American Icon</td>\n",
       "      <td>philip nel takes a fascinating look into the k...</td>\n",
       "    </tr>\n",
       "    <tr>\n",
       "      <th>2</th>\n",
       "      <td>Wonderful Worship in Smaller Churches</td>\n",
       "      <td>this resource includes twelve principles in un...</td>\n",
       "    </tr>\n",
       "  </tbody>\n",
       "</table>\n",
       "</div>"
      ],
      "text/plain": [
       "                                   Title  \\\n",
       "1               Dr. Seuss: American Icon   \n",
       "2  Wonderful Worship in Smaller Churches   \n",
       "\n",
       "                                         Description  \n",
       "1  philip nel takes a fascinating look into the k...  \n",
       "2  this resource includes twelve principles in un...  "
      ]
     },
     "execution_count": 3,
     "metadata": {},
     "output_type": "execute_result"
    }
   ],
   "source": [
    "df_words.head(2)"
   ]
  },
  {
   "cell_type": "code",
   "execution_count": 4,
   "id": "8bcb4220-27ae-49ca-866c-4236db4a8e33",
   "metadata": {},
   "outputs": [],
   "source": [
    "def dummy_function(doc):\n",
    "    return doc"
   ]
  },
  {
   "cell_type": "code",
   "execution_count": 5,
   "id": "3574e339-5ed8-418d-9d41-006ecdb58fe9",
   "metadata": {},
   "outputs": [],
   "source": [
    "core_docs = df_words['Description'].to_list()"
   ]
  },
  {
   "cell_type": "code",
   "execution_count": 7,
   "id": "af95b777-c9cd-4069-b43f-de2fef7d7827",
   "metadata": {},
   "outputs": [],
   "source": [
    "custom_tfidf_1gram = TfidfVectorizer(analyzer='word', ngram_range=(1, 1), tokenizer=dummy_function,\n",
    "                                     preprocessor=dummy_function, token_pattern=None)\n",
    "CX_1gram = custom_tfidf_1gram.fit_transform(core_docs).toarray()"
   ]
  },
  {
   "cell_type": "code",
   "execution_count": null,
   "id": "8dd7cc5b-b728-4c4a-9ef9-223b5813a32c",
   "metadata": {},
   "outputs": [],
   "source": [
    "CX_1gram.shape"
   ]
  },
  {
   "cell_type": "code",
   "execution_count": null,
   "id": "2ec87c5a-7019-4f22-950b-15e611eb5459",
   "metadata": {},
   "outputs": [],
   "source": [
    "pca = PCA(n_components = 20)\n",
    "pca.fit(CX_1gram)\n",
    "\n",
    "def evr (array):\n",
    "    _sum = 0\n",
    "    for element in array:\n",
    "        _sum += element\n",
    "    return _sum\n",
    "\n",
    "evr(pca.explained_variance_ratio_)"
   ]
  },
  {
   "cell_type": "code",
   "execution_count": null,
   "id": "9eff7d00-2e1b-4344-a977-067ed80029e1",
   "metadata": {},
   "outputs": [],
   "source": [
    "CX_1gram_trans = pca.transform(CX_1gram)"
   ]
  },
  {
   "cell_type": "code",
   "execution_count": null,
   "id": "c922e4bb-9231-4cdf-9b6f-640f47c815ab",
   "metadata": {},
   "outputs": [],
   "source": [
    "# K-Means Clustering\n",
    "num_clusters = 5\n",
    "km = KMeans(n_clusters= num_clusters,\n",
    "            random_state=7,\n",
    "           n_init=5)\n",
    "km.fit(CX_1gram_trans)\n",
    "km_df = km.transform(CX_1gram_trans)"
   ]
  },
  {
   "cell_type": "code",
   "execution_count": null,
   "id": "97bbb421-5b8a-451f-8cf2-8318dfa50402",
   "metadata": {},
   "outputs": [],
   "source": [
    "with open('km_df', 'wb') as f:\n",
    "    pickle.dump(km_df,f)"
   ]
  },
  {
   "cell_type": "code",
   "execution_count": null,
   "id": "6e236c3a-6414-4156-90c3-09bfe61a8ef6",
   "metadata": {},
   "outputs": [],
   "source": [
    "book_titles = df_words['Title']\n",
    "book_titles = book_titles.to_frame()\n",
    "book_titles['nulls'] = np.nan\n",
    "type(book_titles)"
   ]
  },
  {
   "cell_type": "code",
   "execution_count": null,
   "id": "4ef53178-8e47-4b1e-9f9f-c41596660b38",
   "metadata": {},
   "outputs": [],
   "source": [
    "book_titles.head()"
   ]
  },
  {
   "cell_type": "code",
   "execution_count": null,
   "id": "4f0d5245-b019-4267-8105-abd999469038",
   "metadata": {},
   "outputs": [],
   "source": [
    "with open('book_titles', 'wb') as f:\n",
    "    pickle.dump(book_titles,f)"
   ]
  }
 ],
 "metadata": {
  "environment": {
   "kernel": "python3",
   "name": "common-cpu.m99",
   "type": "gcloud",
   "uri": "gcr.io/deeplearning-platform-release/base-cpu:m99"
  },
  "kernelspec": {
   "display_name": "Python 3",
   "language": "python",
   "name": "python3"
  },
  "language_info": {
   "codemirror_mode": {
    "name": "ipython",
    "version": 3
   },
   "file_extension": ".py",
   "mimetype": "text/x-python",
   "name": "python",
   "nbconvert_exporter": "python",
   "pygments_lexer": "ipython3",
   "version": "3.7.12"
  }
 },
 "nbformat": 4,
 "nbformat_minor": 5
}
